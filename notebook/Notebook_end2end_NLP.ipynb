{
 "cells": [
  {
   "cell_type": "code",
   "execution_count": null,
   "metadata": {},
   "outputs": [],
   "source": []
  }
 ],
 "metadata": {
  "kernelspec": {
   "display_name": "Python 3.9.7 ('kaggle-projects')",
   "language": "python",
   "name": "python3"
  },
  "language_info": {
   "name": "python",
   "version": "3.9.7"
  },
  "orig_nbformat": 4,
  "vscode": {
   "interpreter": {
    "hash": "801e741c118255c2371839525a504934d2b2cc3154086b9639f96891e353658d"
   }
  }
 },
 "nbformat": 4,
 "nbformat_minor": 2
}
